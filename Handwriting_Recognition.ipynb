{
  "nbformat": 4,
  "nbformat_minor": 0,
  "metadata": {
    "colab": {
      "name": "Handwriting_Recognition.ipynb",
      "version": "0.3.2",
      "provenance": [],
      "include_colab_link": true
    },
    "kernelspec": {
      "name": "python3",
      "display_name": "Python 3"
    }
  },
  "cells": [
    {
      "cell_type": "markdown",
      "metadata": {
        "id": "view-in-github",
        "colab_type": "text"
      },
      "source": [
        "<a href=\"https://colab.research.google.com/github/JoshuaYosen/Handwriting_Recognition/blob/master/Handwriting_Recognition.ipynb\" target=\"_parent\"><img src=\"https://colab.research.google.com/assets/colab-badge.svg\" alt=\"Open In Colab\"/></a>"
      ]
    },
    {
      "metadata": {
        "id": "ztBi1xU5uXxa",
        "colab_type": "text"
      },
      "cell_type": "markdown",
      "source": [
        "**PROJECT DESCRIPTION**\n",
        "\n",
        "The intent of this project is to write a program that can classify a handwritten number. This will be done using the K Means Algorithm as a use of Unsupervised Machine Learning."
      ]
    },
    {
      "metadata": {
        "id": "a0rFxKBrs06x",
        "colab_type": "code",
        "colab": {
          "base_uri": "https://localhost:8080/",
          "height": 799
        },
        "outputId": "d5e38f92-006d-4331-ed03-a6e3aa093b92"
      },
      "cell_type": "code",
      "source": [
        "import seaborn\n",
        "import numpy as np\n",
        "from matplotlib import pyplot as plt\n",
        "from sklearn import datasets\n",
        "from sklearn.cluster import KMeans\n",
        "\n",
        "#dataset of handwritten digits\n",
        "digits = datasets.load_digits()\n",
        "\n",
        "#print(digits.target) to view data\n",
        "\n",
        "print(digits.DESCR) \n"
      ],
      "execution_count": 3,
      "outputs": [
        {
          "output_type": "stream",
          "text": [
            ".. _digits_dataset:\n",
            "\n",
            "Optical recognition of handwritten digits dataset\n",
            "--------------------------------------------------\n",
            "\n",
            "**Data Set Characteristics:**\n",
            "\n",
            "    :Number of Instances: 5620\n",
            "    :Number of Attributes: 64\n",
            "    :Attribute Information: 8x8 image of integer pixels in the range 0..16.\n",
            "    :Missing Attribute Values: None\n",
            "    :Creator: E. Alpaydin (alpaydin '@' boun.edu.tr)\n",
            "    :Date: July; 1998\n",
            "\n",
            "This is a copy of the test set of the UCI ML hand-written digits datasets\n",
            "http://archive.ics.uci.edu/ml/datasets/Optical+Recognition+of+Handwritten+Digits\n",
            "\n",
            "The data set contains images of hand-written digits: 10 classes where\n",
            "each class refers to a digit.\n",
            "\n",
            "Preprocessing programs made available by NIST were used to extract\n",
            "normalized bitmaps of handwritten digits from a preprinted form. From a\n",
            "total of 43 people, 30 contributed to the training set and different 13\n",
            "to the test set. 32x32 bitmaps are divided into nonoverlapping blocks of\n",
            "4x4 and the number of on pixels are counted in each block. This generates\n",
            "an input matrix of 8x8 where each element is an integer in the range\n",
            "0..16. This reduces dimensionality and gives invariance to small\n",
            "distortions.\n",
            "\n",
            "For info on NIST preprocessing routines, see M. D. Garris, J. L. Blue, G.\n",
            "T. Candela, D. L. Dimmick, J. Geist, P. J. Grother, S. A. Janet, and C.\n",
            "L. Wilson, NIST Form-Based Handprint Recognition System, NISTIR 5469,\n",
            "1994.\n",
            "\n",
            ".. topic:: References\n",
            "\n",
            "  - C. Kaynak (1995) Methods of Combining Multiple Classifiers and Their\n",
            "    Applications to Handwritten Digit Recognition, MSc Thesis, Institute of\n",
            "    Graduate Studies in Science and Engineering, Bogazici University.\n",
            "  - E. Alpaydin, C. Kaynak (1998) Cascading Classifiers, Kybernetika.\n",
            "  - Ken Tang and Ponnuthurai N. Suganthan and Xi Yao and A. Kai Qin.\n",
            "    Linear dimensionalityreduction using relevance weighted LDA. School of\n",
            "    Electrical and Electronic Engineering Nanyang Technological University.\n",
            "    2005.\n",
            "  - Claudio Gentile. A New Approximate Maximal Margin Classification\n",
            "    Algorithm. NIPS. 2000.\n"
          ],
          "name": "stdout"
        }
      ]
    },
    {
      "metadata": {
        "id": "L7HjDP-zu3kh",
        "colab_type": "text"
      },
      "cell_type": "markdown",
      "source": [
        "Above we load our necessary modules for graphing and the necessary dataset and algorithms within sci-kit.\n",
        "\n",
        "We have also printed out a general description of the dataset to get a good idea of what we will be working with."
      ]
    },
    {
      "metadata": {
        "id": "_XbM8KG0uxj-",
        "colab_type": "code",
        "colab": {
          "base_uri": "https://localhost:8080/",
          "height": 389
        },
        "outputId": "f8621371-8ac5-4d6d-cde2-c3f99db9b4fc"
      },
      "cell_type": "code",
      "source": [
        "plt.gray()\n",
        "plt.matshow(digits.images[100])\n",
        "plt.show()\n",
        "print(digits.target[100])\n",
        "\n"
      ],
      "execution_count": 4,
      "outputs": [
        {
          "output_type": "display_data",
          "data": {
            "text/plain": [
              "<Figure size 576x396 with 0 Axes>"
            ]
          },
          "metadata": {
            "tags": []
          }
        },
        {
          "output_type": "display_data",
          "data": {
            "image/png": "[encoded data removed]",
            "text/plain": [
              "<Figure size 396x396 with 1 Axes>"
            ]
          },
          "metadata": {
            "tags": []
          }
        },
        {
          "output_type": "stream",
          "text": [
            "4\n"
          ],
          "name": "stdout"
        }
      ]
    },
    {
      "metadata": {
        "id": "EcTETlWguQsK",
        "colab_type": "text"
      },
      "cell_type": "markdown",
      "source": [
        "Above we have generated a gray scale image example of what one of the handwritten images might appear like. Although blurry, one can make out that this is the number 4. As this is part of an already classified data set, we can make sure that is indeed:"
      ]
    },
    {
      "metadata": {
        "id": "_GnuarhOv__b",
        "colab_type": "code",
        "colab": {
          "base_uri": "https://localhost:8080/",
          "height": 34
        },
        "outputId": "cc744dc2-58d2-4d09-edd2-e8aca97201f4"
      },
      "cell_type": "code",
      "source": [
        "print(digits.target[100])"
      ],
      "execution_count": 6,
      "outputs": [
        {
          "output_type": "stream",
          "text": [
            "4\n"
          ],
          "name": "stdout"
        }
      ]
    },
    {
      "metadata": {
        "id": "H896RTVIwFwY",
        "colab_type": "text"
      },
      "cell_type": "markdown",
      "source": [
        "Now we can start building our algorithm"
      ]
    },
    {
      "metadata": {
        "id": "FV39OfEqvcE9",
        "colab_type": "code",
        "colab": {
          "base_uri": "https://localhost:8080/",
          "height": 233
        },
        "outputId": "5e1a7dc1-e299-45a4-f123-7be86cd280f8"
      },
      "cell_type": "code",
      "source": [
        "#creating an instance of KMeans and fitting to model\n",
        "model = KMeans(n_clusters=10, random_state=45)\n",
        "model.fit(digits.data)\n",
        "\n",
        "fig = plt.figure(figsize=(8, 3))\n",
        "fig.suptitle(\"Clsuer Center Images\", fontsize=14, fontweight='bold')\n",
        "\n",
        "for i in range(10):\n",
        "\n",
        "  # Initialize subplots in a grid of 2X5, at i+1th position\n",
        "  ax = fig.add_subplot(2, 5, 1 + i)\n",
        "\n",
        "  # Display images\n",
        "  ax.imshow(model.cluster_centers_[i].reshape((8, 8)), cmap=plt.cm.binary)\n",
        "\n",
        "plt.show()\n",
        "\n"
      ],
      "execution_count": 7,
      "outputs": [
        {
          "output_type": "display_data",
          "data": {
            "image/png": "[encoded data removed]",
            "text/plain": [
              "<Figure size 576x216 with 10 Axes>"
            ]
          },
          "metadata": {
            "tags": []
          }
        }
      ]
    },
    {
      "metadata": {
        "id": "h0Y94wq7xW3X",
        "colab_type": "text"
      },
      "cell_type": "markdown",
      "source": [
        "Now that we have our algorithm, we can test it"
      ]
    },
    {
      "metadata": {
        "id": "ANfw3VGdzzgc",
        "colab_type": "code",
        "colab": {
          "base_uri": "https://localhost:8080/",
          "height": 34
        },
        "outputId": "b259e3af-aac2-43ad-e6ef-562ca2ec3dff"
      },
      "cell_type": "code",
      "source": [
        "#our algorithms prediction for the number 2025\n",
        "new_samples = np.array([\n",
        "[0.00,0.00,0.00,2.19,3.05,0.69,0.00,0.00,0.00,0.84,6.61,7.62,7.62,4.95,0.00,0.00,0.00,0.54,4.49,3.26,7.01,4.95,0.00,0.00,0.00,0.00,0.00,3.05,7.62,2.66,0.00,0.00,0.00,0.00,0.99,7.24,5.94,0.08,0.00,0.00,0.00,0.22,6.24,7.62,4.04,3.04,3.04,1.99,0.00,1.14,7.54,7.62,7.62,7.62,7.62,5.64,0.00,0.00,0.00,0.00,0.00,0.00,0.00,0.00],\n",
        "[0.00,0.00,0.53,3.04,2.44,0.38,0.00,0.00,0.00,0.45,6.47,7.62,7.62,5.55,0.00,0.00,0.00,3.94,7.61,2.43,3.57,7.62,3.89,0.00,0.00,5.33,5.86,0.00,0.08,5.11,7.39,0.38,0.00,5.26,6.10,0.00,0.00,2.67,7.62,0.76,0.00,3.50,7.61,5.25,1.97,4.87,7.31,0.15,0.00,0.23,4.33,7.39,7.62,7.62,4.49,0.00,0.00,0.00,0.00,0.52,2.13,2.20,0.22,0.00],\n",
        "[0.00,2.28,3.04,3.04,1.29,0.00,0.00,0.00,1.28,7.62,7.60,7.61,6.02,0.00,0.00,0.00,1.83,7.39,2.05,6.54,5.71,0.00,0.00,0.00,0.00,0.00,2.13,7.62,3.35,0.00,0.00,0.00,0.00,1.14,7.01,6.56,0.30,0.00,0.00,0.00,0.43,6.85,7.62,6.25,5.48,6.93,7.01,0.99,0.38,5.86,6.10,5.87,5.33,5.02,3.95,0.38,0.00,0.00,0.00,0.00,0.00,0.00,0.00,0.00],\n",
        "[0.00,0.00,1.14,2.13,2.13,1.51,0.84,0.00,0.00,1.82,7.61,7.62,7.62,7.62,5.95,0.00,0.00,1.98,7.61,4.79,2.04,2.28,1.14,0.00,0.00,0.39,6.47,7.62,7.46,4.57,0.08,0.00,0.00,0.00,0.15,1.96,5.16,7.62,3.34,0.00,0.00,0.00,0.00,0.91,4.56,7.62,4.34,0.00,0.00,0.00,0.00,4.35,7.47,4.79,0.45,0.00,0.00,0.00,0.00,0.22,0.53,0.00,0.00,0.00]\n",
        "])\n",
        "\n",
        "#employing predict model on our algorithms 2025 prediction\n",
        "new_labels = model.predict(new_samples)\n",
        "\n",
        "#labeling images to numbers\n",
        "for i in range(len(new_labels)):\n",
        "  if new_labels[i] == 0:\n",
        "    print(0, end='')\n",
        "  elif new_labels[i] == 1:\n",
        "    print(9, end='')\n",
        "  elif new_labels[i] == 2:\n",
        "    print(2, end='')\n",
        "  elif new_labels[i] == 3:\n",
        "    print(1, end='')\n",
        "  elif new_labels[i] == 4:\n",
        "    print(6, end='')\n",
        "  elif new_labels[i] == 5:\n",
        "    print(8, end='')\n",
        "  elif new_labels[i] == 6:\n",
        "    print(4, end='')\n",
        "  elif new_labels[i] == 7:\n",
        "    print(5, end='')\n",
        "  elif new_labels[i] == 8:\n",
        "    print(7, end='')\n",
        "  elif new_labels[i] == 9:\n",
        "    print(3, end='')"
      ],
      "execution_count": 8,
      "outputs": [
        {
          "output_type": "stream",
          "text": [
            "0954"
          ],
          "name": "stdout"
        }
      ]
    },
    {
      "metadata": {
        "id": "wzKIQ3y10XTg",
        "colab_type": "text"
      },
      "cell_type": "markdown",
      "source": [
        "Our number was way off! Technically our algorithm worked. It identified from a dataset some numbers and was able to generate some numbers on a novel piece of data. However, it was wildly inaccuarate. \n",
        "\n",
        "Most likely the data set is too small and not varied enough with different types of handwriting. Because this is an Unsupervised Machine Learning technique, general accuracy will always be lower than Supervised Machine Learning.\n",
        "\n",
        "KMeans is simple, and with enough data accuracy will be higher. However, more sophisticated techniques using deep neural networks is probably the best solution for most Unsupervised Machine Learning. "
      ]
    }
  ]
}